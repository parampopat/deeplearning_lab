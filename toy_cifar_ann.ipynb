{
  "nbformat": 4,
  "nbformat_minor": 0,
  "metadata": {
    "colab": {
      "name": "cifar.ipynb",
      "version": "0.3.2",
      "provenance": [],
      "collapsed_sections": [],
      "include_colab_link": true
    },
    "kernelspec": {
      "name": "python3",
      "display_name": "Python 3"
    },
    "accelerator": "GPU"
  },
  "cells": [
    {
      "cell_type": "markdown",
      "metadata": {
        "id": "view-in-github",
        "colab_type": "text"
      },
      "source": [
        "[View in Colaboratory](https://colab.research.google.com/github/parampopat/deeplearning_lab/blob/master/toy_cifar_ann.ipynb)"
      ]
    },
    {
      "metadata": {
        "id": "hGk79mKPvAFV",
        "colab_type": "code",
        "colab": {
          "base_uri": "https://localhost:8080/",
          "height": 799
        },
        "outputId": "ba52c9c3-42a2-4f2a-b99b-af8913497db4"
      },
      "cell_type": "code",
      "source": [
        "\"\"\"\n",
        "__author__ = \"Param Popat\"\n",
        "__version__ = \"1\"\n",
        "__git__ = \"https://github.com/parampopat/\"\n",
        "\"\"\"\n",
        "\n",
        "\n",
        "from keras.models import Sequential\n",
        "from keras.layers import Dense\n",
        "from keras.layers import Dropout\n",
        "from keras.datasets import cifar10\n",
        "from keras.utils import *\n",
        "\n",
        "\n",
        "def get_model(xtrain, ytrain, xtest, ytest):\n",
        "    \"\"\"\n",
        "    Trains and returns the model\n",
        "    :return: Trained Model\n",
        "    \"\"\"\n",
        "    model = Sequential()\n",
        "    model.add(Dense(512, input_shape=(xtrain.shape[1],), activation='relu'))\n",
        "    model.add(Dropout(0.2))\n",
        "    model.add(Dense(512, activation='relu'))\n",
        "    model.add(Dropout(0.2))\n",
        "    model.add(Dense(256, activation='relu'))\n",
        "    model.add(Dropout(0.2))\n",
        "    model.add(Dense(256, activation='relu'))\n",
        "    model.add(Dropout(0.2))\n",
        "    model.add(Dense(10, activation='softmax'))\n",
        "    model.compile(loss='categorical_crossentropy', optimizer='RMSprop', metrics=['accuracy'])\n",
        "    model.fit(xtrain, ytrain, validation_data=(xtest, ytest), epochs=20, batch_size=256, verbose=2)\n",
        "    return model\n",
        "\n",
        "\n",
        "def train():\n",
        "    \"\"\"\n",
        "\n",
        "    :return:\n",
        "    \"\"\"\n",
        "\n",
        "    (x_train, y_train), (x_test, y_test) = cifar10.load_data()\n",
        "    print(x_train.shape)\n",
        "    print(x_test.shape)\n",
        "    x_train = x_train.reshape(50000, 3072)\n",
        "    x_test = x_test.reshape(10000, 3072)\n",
        "    x_train = x_train.astype('float32')\n",
        "    x_test = x_test.astype('float32')\n",
        "    x_train /= 255\n",
        "    x_test /= 255\n",
        "    classes = 10\n",
        "    y_train = to_categorical(y_train, classes)\n",
        "    y_test = to_categorical(y_test, classes)\n",
        "    model = get_model(x_train, y_train, x_test, y_test)\n",
        "    y_test_pred = model.predict(x_test)\n",
        "    acc = model.evaluate(x_test, y_test, verbose=0)\n",
        "    print('Test Acc:', acc[1])\n",
        "\n",
        "\n",
        "train()"
      ],
      "execution_count": 3,
      "outputs": [
        {
          "output_type": "stream",
          "text": [
            "(50000, 32, 32, 3)\n",
            "(10000, 32, 32, 3)\n",
            "Train on 50000 samples, validate on 10000 samples\n",
            "Epoch 1/20\n",
            " - 3s - loss: 2.1801 - acc: 0.1933 - val_loss: 2.0317 - val_acc: 0.2592\n",
            "Epoch 2/20\n",
            " - 2s - loss: 1.9551 - acc: 0.2884 - val_loss: 1.9285 - val_acc: 0.2998\n",
            "Epoch 3/20\n",
            " - 2s - loss: 1.8737 - acc: 0.3221 - val_loss: 1.7872 - val_acc: 0.3505\n",
            "Epoch 4/20\n",
            " - 2s - loss: 1.8238 - acc: 0.3406 - val_loss: 1.8468 - val_acc: 0.3383\n",
            "Epoch 5/20\n",
            " - 2s - loss: 1.7865 - acc: 0.3601 - val_loss: 1.7981 - val_acc: 0.3364\n",
            "Epoch 6/20\n",
            " - 2s - loss: 1.7475 - acc: 0.3737 - val_loss: 1.7724 - val_acc: 0.3461\n",
            "Epoch 7/20\n",
            " - 2s - loss: 1.7238 - acc: 0.3846 - val_loss: 1.7790 - val_acc: 0.3671\n",
            "Epoch 8/20\n",
            " - 2s - loss: 1.6947 - acc: 0.3931 - val_loss: 1.6231 - val_acc: 0.4328\n",
            "Epoch 9/20\n",
            " - 2s - loss: 1.6771 - acc: 0.3991 - val_loss: 1.7639 - val_acc: 0.3671\n",
            "Epoch 10/20\n",
            " - 2s - loss: 1.6521 - acc: 0.4100 - val_loss: 1.7245 - val_acc: 0.3760\n",
            "Epoch 11/20\n",
            " - 2s - loss: 1.6377 - acc: 0.4130 - val_loss: 1.6005 - val_acc: 0.4414\n",
            "Epoch 12/20\n",
            " - 2s - loss: 1.6224 - acc: 0.4196 - val_loss: 1.5721 - val_acc: 0.4434\n",
            "Epoch 13/20\n",
            " - 2s - loss: 1.6126 - acc: 0.4240 - val_loss: 1.5818 - val_acc: 0.4323\n",
            "Epoch 14/20\n",
            " - 2s - loss: 1.5995 - acc: 0.4285 - val_loss: 1.6140 - val_acc: 0.4265\n",
            "Epoch 15/20\n",
            " - 2s - loss: 1.5916 - acc: 0.4313 - val_loss: 1.6521 - val_acc: 0.4116\n",
            "Epoch 16/20\n",
            " - 2s - loss: 1.5770 - acc: 0.4377 - val_loss: 1.5377 - val_acc: 0.4553\n",
            "Epoch 17/20\n",
            " - 2s - loss: 1.5607 - acc: 0.4442 - val_loss: 1.5828 - val_acc: 0.4257\n",
            "Epoch 18/20\n",
            " - 2s - loss: 1.5576 - acc: 0.4440 - val_loss: 1.5315 - val_acc: 0.4694\n",
            "Epoch 19/20\n",
            " - 2s - loss: 1.5430 - acc: 0.4496 - val_loss: 1.5287 - val_acc: 0.4594\n",
            "Epoch 20/20\n",
            " - 2s - loss: 1.5384 - acc: 0.4508 - val_loss: 1.5656 - val_acc: 0.4502\n",
            "Test Acc: 0.4502\n"
          ],
          "name": "stdout"
        }
      ]
    }
  ]
}