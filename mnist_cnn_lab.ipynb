{
  "nbformat": 4,
  "nbformat_minor": 0,
  "metadata": {
    "colab": {
      "name": "mnist_cnn_lab.ipynb",
      "version": "0.3.2",
      "provenance": [],
      "collapsed_sections": [],
      "include_colab_link": true
    },
    "kernelspec": {
      "name": "python3",
      "display_name": "Python 3"
    },
    "accelerator": "GPU"
  },
  "cells": [
    {
      "cell_type": "markdown",
      "metadata": {
        "id": "view-in-github",
        "colab_type": "text"
      },
      "source": [
        "[View in Colaboratory](https://colab.research.google.com/github/parampopat/deeplearning_lab/blob/master/mnist_cnn_lab.ipynb)"
      ]
    },
    {
      "metadata": {
        "id": "z2VPUOZ9hNFP",
        "colab_type": "code",
        "colab": {
          "base_uri": "https://localhost:8080/",
          "height": 35
        },
        "outputId": "e1211d73-397f-4f21-cf2e-03db7556287a"
      },
      "cell_type": "code",
      "source": [
        "import tensorflow as tf\n",
        "tf.test.gpu_device_name()"
      ],
      "execution_count": 2,
      "outputs": [
        {
          "output_type": "execute_result",
          "data": {
            "text/plain": [
              "'/device:GPU:0'"
            ]
          },
          "metadata": {
            "tags": []
          },
          "execution_count": 2
        }
      ]
    },
    {
      "metadata": {
        "id": "PflAKprdojub",
        "colab_type": "code",
        "colab": {}
      },
      "cell_type": "code",
      "source": [
        ""
      ],
      "execution_count": 0,
      "outputs": []
    },
    {
      "metadata": {
        "id": "dARErgY_siZV",
        "colab_type": "code",
        "colab": {
          "base_uri": "https://localhost:8080/",
          "height": 830
        },
        "outputId": "58a73039-2000-48b3-85f0-201978518006"
      },
      "cell_type": "code",
      "source": [
        "\"\"\"\n",
        "__author__ = \"Param Popat\"\n",
        "__version__ = \"1\"\n",
        "__git__ = \"https://github.com/parampopat/\"\n",
        "\"\"\"\n",
        "\n",
        "import keras\n",
        "from keras.datasets import mnist\n",
        "from keras.models import Sequential\n",
        "from keras.layers import Dense, Dropout, Flatten\n",
        "from keras.layers import Conv2D, MaxPooling2D\n",
        "from keras import backend as K\n",
        "import matplotlib.pyplot as plt\n",
        "\n",
        "\n",
        "def get_model(xtrain, ytrain, xtest, ytest, input_shape):\n",
        "    \"\"\"\n",
        "    Trains and returns the model\n",
        "    :return: Trained Model\n",
        "    \"\"\"\n",
        "    model = Sequential()\n",
        "    model.add(Conv2D(32, kernel_size=(3, 3), activation='relu', input_shape=input_shape, name='conv_1'))\n",
        "    model.add(Conv2D(64, (3, 3), activation='relu', name='conv_2'))\n",
        "    model.add(MaxPooling2D(pool_size=(2, 2), name='pool_1'))\n",
        "    model.add(Dropout(0.2))\n",
        "    model.add(Flatten())\n",
        "    model.add(Dense(128, activation='relu', name='dense_1'))\n",
        "    model.add(Dropout(0.2))\n",
        "    model.add(Dense(10, activation='softmax', name='out'))\n",
        "    model.compile(loss=keras.losses.categorical_crossentropy, optimizer=keras.optimizers.Adadelta(),\n",
        "                  metrics=['accuracy'])\n",
        "    model.fit(xtrain, ytrain, batch_size=128, epochs=10, verbose=2, validation_data=(xtest, ytest))\n",
        "    return model\n",
        "\n",
        "\n",
        "def train():\n",
        "    \"\"\"\n",
        "\n",
        "    :return:\n",
        "    \"\"\"\n",
        "\n",
        "\n",
        "img_rows, img_cols = 28, 28\n",
        "(x_train, y_train), (x_test, y_test) = mnist.load_data()\n",
        "\n",
        "if K.image_data_format() == 'channels_first':\n",
        "    x_train = x_train.reshape(x_train.shape[0], 1, img_rows, img_cols)\n",
        "    x_test = x_test.reshape(x_test.shape[0], 1, img_rows, img_cols)\n",
        "    input_shape = (1, img_rows, img_cols)\n",
        "else:\n",
        "    x_train = x_train.reshape(x_train.shape[0], img_rows, img_cols, 1)\n",
        "    x_test = x_test.reshape(x_test.shape[0], img_rows, img_cols, 1)\n",
        "    input_shape = (img_rows, img_cols, 1)\n",
        "\n",
        "x_train = x_train.astype('float32')\n",
        "x_test = x_test.astype('float32')\n",
        "x_train /= 255\n",
        "x_test /= 255\n",
        "print('x_train shape:', x_train.shape)\n",
        "print(x_train.shape[0], 'train samples')\n",
        "print(x_test.shape[0], 'test samples')\n",
        "\n",
        "# convert class vectors to binary class matrices\n",
        "y_train = keras.utils.to_categorical(y_train, 10)\n",
        "y_test = keras.utils.to_categorical(y_test, 10)\n",
        "\n",
        "model = get_model(x_train, y_train, x_test, y_test, input_shape)\n",
        "arr = model.get_weights()\n",
        "# plt.plot(arr[0][0][0])\n",
        "plt.imshow(arr[6])\n",
        "accuracy = model.evaluate(x_test, y_test, verbose=0)\n",
        "print('Test accuracy:', accuracy[1])\n",
        "\n"
      ],
      "execution_count": 2,
      "outputs": [
        {
          "output_type": "stream",
          "text": [
            "Downloading data from https://s3.amazonaws.com/img-datasets/mnist.npz\n",
            "11493376/11490434 [==============================] - 1s 0us/step\n",
            "x_train shape: (60000, 28, 28, 1)\n",
            "60000 train samples\n",
            "10000 test samples\n",
            "Train on 60000 samples, validate on 10000 samples\n",
            "Epoch 1/10\n",
            " - 11s - loss: 0.2180 - acc: 0.9341 - val_loss: 0.0602 - val_acc: 0.9803\n",
            "Epoch 2/10\n",
            " - 9s - loss: 0.0623 - acc: 0.9813 - val_loss: 0.0431 - val_acc: 0.9859\n",
            "Epoch 3/10\n",
            " - 9s - loss: 0.0443 - acc: 0.9862 - val_loss: 0.0331 - val_acc: 0.9894\n",
            "Epoch 4/10\n",
            " - 9s - loss: 0.0332 - acc: 0.9894 - val_loss: 0.0261 - val_acc: 0.9917\n",
            "Epoch 5/10\n",
            " - 9s - loss: 0.0265 - acc: 0.9917 - val_loss: 0.0266 - val_acc: 0.9914\n",
            "Epoch 6/10\n",
            " - 9s - loss: 0.0227 - acc: 0.9928 - val_loss: 0.0261 - val_acc: 0.9914\n",
            "Epoch 7/10\n",
            " - 9s - loss: 0.0185 - acc: 0.9944 - val_loss: 0.0265 - val_acc: 0.9910\n",
            "Epoch 8/10\n",
            " - 9s - loss: 0.0145 - acc: 0.9954 - val_loss: 0.0284 - val_acc: 0.9914\n",
            "Epoch 9/10\n",
            " - 9s - loss: 0.0135 - acc: 0.9958 - val_loss: 0.0297 - val_acc: 0.9895\n",
            "Epoch 10/10\n",
            " - 9s - loss: 0.0114 - acc: 0.9963 - val_loss: 0.0299 - val_acc: 0.9909\n",
            "Test accuracy: 0.9909\n"
          ],
          "name": "stdout"
        },
        {
          "output_type": "display_data",
          "data": {
            "image/png": "[encoded data removed]",
            "text/plain": [
              "<matplotlib.figure.Figure at 0x7f7b471759b0>"
            ]
          },
          "metadata": {
            "tags": []
          }
        }
      ]
    },
    {
      "metadata": {
        "id": "KqpGvsXNou7C",
        "colab_type": "code",
        "colab": {
          "base_uri": "https://localhost:8080/",
          "height": 35
        },
        "outputId": "3a436604-e8d0-4ac0-bf04-08e984bb8444"
      },
      "cell_type": "code",
      "source": [
        "layer_name = model.layers[1].name\n",
        "print(layer_name)"
      ],
      "execution_count": 5,
      "outputs": [
        {
          "output_type": "stream",
          "text": [
            "conv_2\n"
          ],
          "name": "stdout"
        }
      ]
    },
    {
      "metadata": {
        "id": "Ah52wBeyoyjv",
        "colab_type": "code",
        "colab": {}
      },
      "cell_type": "code",
      "source": [
        "convolve_1=model.get_layer(\"conv_1\")"
      ],
      "execution_count": 0,
      "outputs": []
    },
    {
      "metadata": {
        "id": "0ACg2DWho88A",
        "colab_type": "code",
        "colab": {
          "base_uri": "https://localhost:8080/",
          "height": 2061
        },
        "outputId": "59f7debc-c867-4cf6-9093-7964a4b821b0"
      },
      "cell_type": "code",
      "source": [
        "arr = convolve_1.get_weights()\n",
        "print(arr)"
      ],
      "execution_count": 14,
      "outputs": [
        {
          "output_type": "stream",
          "text": [
            "[array([[[[-1.03146970e-01,  3.29892971e-02, -4.82767858e-02,\n",
            "           2.09408909e-01, -3.47042620e-01, -1.43813759e-01,\n",
            "          -4.15535457e-02, -4.89087515e-02, -5.59743419e-02,\n",
            "           1.59862712e-01,  2.37988576e-01, -9.56533402e-02,\n",
            "           1.16387740e-01, -3.95809719e-03,  1.35628894e-01,\n",
            "           2.03342825e-01,  1.86430261e-01,  2.71961410e-02,\n",
            "          -1.84460223e-01,  2.08448872e-01,  1.87061772e-01,\n",
            "           3.83480005e-02, -1.00514889e-01, -2.20933091e-02,\n",
            "          -8.42340738e-02, -1.34658441e-01, -2.73737580e-01,\n",
            "           3.01346809e-01,  2.55413773e-03,  5.52152917e-02,\n",
            "          -1.35976419e-01,  1.56120405e-01]],\n",
            "\n",
            "        [[ 2.14845389e-01,  3.64381000e-02, -8.33795741e-02,\n",
            "           1.69022188e-01, -3.30361545e-01,  1.40612304e-01,\n",
            "          -1.99892566e-01, -9.66394618e-02,  1.88321397e-01,\n",
            "          -1.00457892e-01, -9.54804197e-02,  2.02879429e-01,\n",
            "          -8.69385898e-02, -1.08287446e-01,  1.49052152e-02,\n",
            "          -8.87620971e-02,  7.73214027e-02, -4.76828739e-02,\n",
            "          -1.20299213e-01,  5.23359105e-02,  1.96455225e-01,\n",
            "           1.63981840e-01, -9.96377096e-02,  9.77724120e-02,\n",
            "          -2.97458410e-01,  2.13291436e-01, -1.13954552e-01,\n",
            "           1.39643937e-01,  1.98744044e-01, -6.07001707e-02,\n",
            "          -2.67888427e-01,  3.36881205e-02]],\n",
            "\n",
            "        [[ 7.94653073e-02, -2.23135903e-01, -3.05374175e-01,\n",
            "           2.68725544e-01,  7.43191540e-02,  2.56785095e-01,\n",
            "          -2.50935435e-01,  8.99268314e-02,  2.49564126e-01,\n",
            "          -2.41348445e-01, -3.26945901e-01,  1.70671463e-01,\n",
            "           1.00440510e-01, -9.00128409e-02,  1.18265726e-01,\n",
            "          -1.74790874e-01,  3.10714632e-01, -8.97794366e-02,\n",
            "          -2.65772581e-01,  1.09442011e-01,  2.03129143e-01,\n",
            "           3.22950393e-01, -4.17655483e-02, -5.22593744e-02,\n",
            "          -2.50772595e-01, -1.60261780e-01,  3.37647259e-01,\n",
            "          -1.88792244e-01,  2.31326427e-02,  1.11708911e-02,\n",
            "          -1.81593955e-01, -2.60135651e-01]]],\n",
            "\n",
            "\n",
            "       [[[ 1.91849366e-01,  8.97761136e-02,  3.64517629e-01,\n",
            "           1.80001989e-01, -3.29909474e-01,  3.59132402e-02,\n",
            "          -3.91317196e-02,  5.69434464e-02, -2.71673083e-01,\n",
            "           2.20881656e-01,  9.45819542e-02,  1.89855903e-01,\n",
            "           1.78635284e-01,  2.96198606e-01,  2.98167557e-01,\n",
            "           1.82045717e-02, -1.81546539e-01, -4.62105870e-02,\n",
            "           6.59176484e-02,  2.71464258e-01,  6.17800243e-02,\n",
            "           7.18264431e-02, -7.00102895e-02,  6.73723966e-02,\n",
            "           2.60926992e-01, -1.26189008e-01, -1.77112538e-02,\n",
            "           1.98011592e-01,  2.81926114e-02,  2.18908355e-01,\n",
            "           1.95995122e-02,  1.23803288e-01]],\n",
            "\n",
            "        [[ 2.17750013e-01,  2.06672743e-01,  2.77611613e-01,\n",
            "          -5.93888313e-02, -2.32075937e-02,  7.05713173e-05,\n",
            "          -1.53516516e-01,  2.54026562e-01,  1.14910476e-01,\n",
            "           1.97820794e-02, -1.73627600e-01,  1.93673149e-02,\n",
            "           2.48115182e-01,  2.57649183e-01,  5.32935746e-02,\n",
            "           1.97667982e-02, -1.50631117e-02, -1.30894944e-01,\n",
            "          -1.31903157e-01, -4.72026430e-02,  1.08659588e-01,\n",
            "          -7.56889731e-02,  3.50590758e-02,  1.35560468e-01,\n",
            "          -2.09120046e-02,  5.19281961e-02,  7.48984665e-02,\n",
            "           2.29886532e-01,  8.52349959e-03, -1.12950124e-01,\n",
            "           1.03219733e-01, -1.22730974e-02]],\n",
            "\n",
            "        [[ 2.44191997e-02,  1.55203998e-01,  6.23448053e-03,\n",
            "          -2.17253685e-01,  2.81427860e-01,  2.26410791e-01,\n",
            "          -6.52460977e-02,  2.11015731e-01,  1.36041522e-01,\n",
            "          -1.23239681e-01, -8.23850185e-02, -1.48688760e-02,\n",
            "           2.59977467e-02, -2.13816520e-02, -2.83421844e-01,\n",
            "          -2.28459910e-01,  1.36759058e-01, -4.83135693e-02,\n",
            "          -8.90387148e-02, -6.01213314e-02,  8.41423497e-02,\n",
            "           1.20314062e-01,  9.31809656e-03,  1.71396017e-01,\n",
            "          -2.40006447e-01, -6.38457248e-03,  3.72682452e-01,\n",
            "           1.20989658e-01,  2.49094352e-01, -1.08784936e-01,\n",
            "          -5.66279069e-02, -2.71056741e-01]]],\n",
            "\n",
            "\n",
            "       [[[-2.15966910e-01,  1.33386821e-01,  3.13343704e-01,\n",
            "           2.24511027e-02,  1.88054830e-01,  4.86322418e-02,\n",
            "           3.07319701e-01, -8.65518600e-02, -3.66797715e-01,\n",
            "           9.27965492e-02, -6.33710995e-02,  2.30459794e-01,\n",
            "          -5.53509779e-02,  8.93352479e-02,  2.44311795e-01,\n",
            "           3.04565340e-01, -1.02475487e-01, -9.49317887e-02,\n",
            "           2.49611020e-01, -6.16681576e-02, -2.85220772e-01,\n",
            "          -3.28739762e-01, -1.00956216e-01, -1.18064716e-01,\n",
            "           3.13471943e-01, -2.49956906e-01, -1.13063723e-01,\n",
            "          -2.83145726e-01, -2.33674824e-01,  3.02724600e-01,\n",
            "           1.87405989e-01,  2.56951153e-01]],\n",
            "\n",
            "        [[ 8.06053653e-02,  9.01412964e-02,  8.59247595e-02,\n",
            "          -1.94272965e-01,  1.87059522e-01, -1.24815047e-01,\n",
            "           2.66957372e-01,  9.71153453e-02,  6.55067563e-02,\n",
            "           1.18799485e-01, -7.06435814e-02, -1.27405778e-01,\n",
            "          -6.52130973e-03,  4.06840704e-02, -1.21112391e-01,\n",
            "           1.83309749e-01, -3.65947872e-01,  5.50817400e-02,\n",
            "           2.32363313e-01, -2.10140869e-01, -2.88916200e-01,\n",
            "          -2.87545651e-01, -4.02245894e-02, -1.18488438e-01,\n",
            "           6.55296296e-02,  1.98546305e-01,  9.67062041e-02,\n",
            "          -1.79614201e-01, -1.95141822e-01,  2.41479635e-01,\n",
            "           6.00313991e-02,  5.46078943e-02]],\n",
            "\n",
            "        [[-1.11565605e-01, -6.14839830e-02, -2.36626511e-04,\n",
            "          -4.01535749e-01,  2.49475956e-01,  3.46173272e-02,\n",
            "           7.63703957e-02, -1.40160233e-01, -1.48433656e-03,\n",
            "          -1.77265406e-01,  3.40390235e-01, -3.63202214e-01,\n",
            "          -2.23862156e-01, -1.22957136e-02, -2.17457205e-01,\n",
            "          -7.52064362e-02, -2.77741283e-01,  4.32837708e-03,\n",
            "           2.32769966e-01, -1.73741609e-01, -4.65614200e-02,\n",
            "           3.75127532e-02, -1.63071156e-01,  2.06270054e-01,\n",
            "          -8.57536793e-02,  1.31420344e-01,  3.84986866e-04,\n",
            "           1.79517865e-01,  1.07422329e-01, -6.94574714e-02,\n",
            "           2.22348437e-01, -1.21218204e-01]]]], dtype=float32), array([ 0.00322893, -0.03670578, -0.00409221,  0.11242437,  0.10901831,\n",
            "       -0.04202727,  0.09465951,  0.00040349,  0.03952236,  0.02377515,\n",
            "        0.11563309,  0.02585055,  0.00535877,  0.0092735 ,  0.04044415,\n",
            "        0.00985084,  0.07978762, -0.02460917,  0.05561444,  0.03576749,\n",
            "        0.03521356,  0.06611968,  0.0919622 , -0.04168893,  0.09344386,\n",
            "        0.01749612,  0.02579811, -0.01128468, -0.01132572, -0.00062223,\n",
            "        0.02983481,  0.03047136], dtype=float32)]\n"
          ],
          "name": "stdout"
        }
      ]
    },
    {
      "metadata": {
        "id": "cpFbpHaWpaZU",
        "colab_type": "code",
        "colab": {}
      },
      "cell_type": "code",
      "source": [
        "import numpy as np\n",
        "arr = np.array(arr)"
      ],
      "execution_count": 0,
      "outputs": []
    },
    {
      "metadata": {
        "id": "LyQt0OeFpq1P",
        "colab_type": "code",
        "colab": {
          "base_uri": "https://localhost:8080/",
          "height": 2079
        },
        "outputId": "4be0c5aa-d8cd-428c-c594-9fb270bddbbf"
      },
      "cell_type": "code",
      "source": [
        "arr"
      ],
      "execution_count": 28,
      "outputs": [
        {
          "output_type": "execute_result",
          "data": {
            "text/plain": [
              "array([array([[[[-1.03146970e-01,  3.29892971e-02, -4.82767858e-02,\n",
              "           2.09408909e-01, -3.47042620e-01, -1.43813759e-01,\n",
              "          -4.15535457e-02, -4.89087515e-02, -5.59743419e-02,\n",
              "           1.59862712e-01,  2.37988576e-01, -9.56533402e-02,\n",
              "           1.16387740e-01, -3.95809719e-03,  1.35628894e-01,\n",
              "           2.03342825e-01,  1.86430261e-01,  2.71961410e-02,\n",
              "          -1.84460223e-01,  2.08448872e-01,  1.87061772e-01,\n",
              "           3.83480005e-02, -1.00514889e-01, -2.20933091e-02,\n",
              "          -8.42340738e-02, -1.34658441e-01, -2.73737580e-01,\n",
              "           3.01346809e-01,  2.55413773e-03,  5.52152917e-02,\n",
              "          -1.35976419e-01,  1.56120405e-01]],\n",
              "\n",
              "        [[ 2.14845389e-01,  3.64381000e-02, -8.33795741e-02,\n",
              "           1.69022188e-01, -3.30361545e-01,  1.40612304e-01,\n",
              "          -1.99892566e-01, -9.66394618e-02,  1.88321397e-01,\n",
              "          -1.00457892e-01, -9.54804197e-02,  2.02879429e-01,\n",
              "          -8.69385898e-02, -1.08287446e-01,  1.49052152e-02,\n",
              "          -8.87620971e-02,  7.73214027e-02, -4.76828739e-02,\n",
              "          -1.20299213e-01,  5.23359105e-02,  1.96455225e-01,\n",
              "           1.63981840e-01, -9.96377096e-02,  9.77724120e-02,\n",
              "          -2.97458410e-01,  2.13291436e-01, -1.13954552e-01,\n",
              "           1.39643937e-01,  1.98744044e-01, -6.07001707e-02,\n",
              "          -2.67888427e-01,  3.36881205e-02]],\n",
              "\n",
              "        [[ 7.94653073e-02, -2.23135903e-01, -3.05374175e-01,\n",
              "           2.68725544e-01,  7.43191540e-02,  2.56785095e-01,\n",
              "          -2.50935435e-01,  8.99268314e-02,  2.49564126e-01,\n",
              "          -2.41348445e-01, -3.26945901e-01,  1.70671463e-01,\n",
              "           1.00440510e-01, -9.00128409e-02,  1.18265726e-01,\n",
              "          -1.74790874e-01,  3.10714632e-01, -8.97794366e-02,\n",
              "          -2.65772581e-01,  1.09442011e-01,  2.03129143e-01,\n",
              "           3.22950393e-01, -4.17655483e-02, -5.22593744e-02,\n",
              "          -2.50772595e-01, -1.60261780e-01,  3.37647259e-01,\n",
              "          -1.88792244e-01,  2.31326427e-02,  1.11708911e-02,\n",
              "          -1.81593955e-01, -2.60135651e-01]]],\n",
              "\n",
              "\n",
              "       [[[ 1.91849366e-01,  8.97761136e-02,  3.64517629e-01,\n",
              "           1.80001989e-01, -3.29909474e-01,  3.59132402e-02,\n",
              "          -3.91317196e-02,  5.69434464e-02, -2.71673083e-01,\n",
              "           2.20881656e-01,  9.45819542e-02,  1.89855903e-01,\n",
              "           1.78635284e-01,  2.96198606e-01,  2.98167557e-01,\n",
              "           1.82045717e-02, -1.81546539e-01, -4.62105870e-02,\n",
              "           6.59176484e-02,  2.71464258e-01,  6.17800243e-02,\n",
              "           7.18264431e-02, -7.00102895e-02,  6.73723966e-02,\n",
              "           2.60926992e-01, -1.26189008e-01, -1.77112538e-02,\n",
              "           1.98011592e-01,  2.81926114e-02,  2.18908355e-01,\n",
              "           1.95995122e-02,  1.23803288e-01]],\n",
              "\n",
              "        [[ 2.17750013e-01,  2.06672743e-01,  2.77611613e-01,\n",
              "          -5.93888313e-02, -2.32075937e-02,  7.05713173e-05,\n",
              "          -1.53516516e-01,  2.54026562e-01,  1.14910476e-01,\n",
              "           1.97820794e-02, -1.73627600e-01,  1.93673149e-02,\n",
              "           2.48115182e-01,  2.57649183e-01,  5.32935746e-02,\n",
              "           1.97667982e-02, -1.50631117e-02, -1.30894944e-01,\n",
              "          -1.31903157e-01, -4.72026430e-02,  1.08659588e-01,\n",
              "          -7.56889731e-02,  3.50590758e-02,  1.35560468e-01,\n",
              "          -2.09120046e-02,  5.19281961e-02,  7.48984665e-02,\n",
              "           2.29886532e-01,  8.52349959e-03, -1.12950124e-01,\n",
              "           1.03219733e-01, -1.22730974e-02]],\n",
              "\n",
              "        [[ 2.44191997e-02,  1.55203998e-01,  6.23448053e-03,\n",
              "          -2.17253685e-01,  2.81427860e-01,  2.26410791e-01,\n",
              "          -6.52460977e-02,  2.11015731e-01,  1.36041522e-01,\n",
              "          -1.23239681e-01, -8.23850185e-02, -1.48688760e-02,\n",
              "           2.59977467e-02, -2.13816520e-02, -2.83421844e-01,\n",
              "          -2.28459910e-01,  1.36759058e-01, -4.83135693e-02,\n",
              "          -8.90387148e-02, -6.01213314e-02,  8.41423497e-02,\n",
              "           1.20314062e-01,  9.31809656e-03,  1.71396017e-01,\n",
              "          -2.40006447e-01, -6.38457248e-03,  3.72682452e-01,\n",
              "           1.20989658e-01,  2.49094352e-01, -1.08784936e-01,\n",
              "          -5.66279069e-02, -2.71056741e-01]]],\n",
              "\n",
              "\n",
              "       [[[-2.15966910e-01,  1.33386821e-01,  3.13343704e-01,\n",
              "           2.24511027e-02,  1.88054830e-01,  4.86322418e-02,\n",
              "           3.07319701e-01, -8.65518600e-02, -3.66797715e-01,\n",
              "           9.27965492e-02, -6.33710995e-02,  2.30459794e-01,\n",
              "          -5.53509779e-02,  8.93352479e-02,  2.44311795e-01,\n",
              "           3.04565340e-01, -1.02475487e-01, -9.49317887e-02,\n",
              "           2.49611020e-01, -6.16681576e-02, -2.85220772e-01,\n",
              "          -3.28739762e-01, -1.00956216e-01, -1.18064716e-01,\n",
              "           3.13471943e-01, -2.49956906e-01, -1.13063723e-01,\n",
              "          -2.83145726e-01, -2.33674824e-01,  3.02724600e-01,\n",
              "           1.87405989e-01,  2.56951153e-01]],\n",
              "\n",
              "        [[ 8.06053653e-02,  9.01412964e-02,  8.59247595e-02,\n",
              "          -1.94272965e-01,  1.87059522e-01, -1.24815047e-01,\n",
              "           2.66957372e-01,  9.71153453e-02,  6.55067563e-02,\n",
              "           1.18799485e-01, -7.06435814e-02, -1.27405778e-01,\n",
              "          -6.52130973e-03,  4.06840704e-02, -1.21112391e-01,\n",
              "           1.83309749e-01, -3.65947872e-01,  5.50817400e-02,\n",
              "           2.32363313e-01, -2.10140869e-01, -2.88916200e-01,\n",
              "          -2.87545651e-01, -4.02245894e-02, -1.18488438e-01,\n",
              "           6.55296296e-02,  1.98546305e-01,  9.67062041e-02,\n",
              "          -1.79614201e-01, -1.95141822e-01,  2.41479635e-01,\n",
              "           6.00313991e-02,  5.46078943e-02]],\n",
              "\n",
              "        [[-1.11565605e-01, -6.14839830e-02, -2.36626511e-04,\n",
              "          -4.01535749e-01,  2.49475956e-01,  3.46173272e-02,\n",
              "           7.63703957e-02, -1.40160233e-01, -1.48433656e-03,\n",
              "          -1.77265406e-01,  3.40390235e-01, -3.63202214e-01,\n",
              "          -2.23862156e-01, -1.22957136e-02, -2.17457205e-01,\n",
              "          -7.52064362e-02, -2.77741283e-01,  4.32837708e-03,\n",
              "           2.32769966e-01, -1.73741609e-01, -4.65614200e-02,\n",
              "           3.75127532e-02, -1.63071156e-01,  2.06270054e-01,\n",
              "          -8.57536793e-02,  1.31420344e-01,  3.84986866e-04,\n",
              "           1.79517865e-01,  1.07422329e-01, -6.94574714e-02,\n",
              "           2.22348437e-01, -1.21218204e-01]]]], dtype=float32),\n",
              "       array([ 0.00322893, -0.03670578, -0.00409221,  0.11242437,  0.10901831,\n",
              "       -0.04202727,  0.09465951,  0.00040349,  0.03952236,  0.02377515,\n",
              "        0.11563309,  0.02585055,  0.00535877,  0.0092735 ,  0.04044415,\n",
              "        0.00985084,  0.07978762, -0.02460917,  0.05561444,  0.03576749,\n",
              "        0.03521356,  0.06611968,  0.0919622 , -0.04168893,  0.09344386,\n",
              "        0.01749612,  0.02579811, -0.01128468, -0.01132572, -0.00062223,\n",
              "        0.02983481,  0.03047136], dtype=float32)], dtype=object)"
            ]
          },
          "metadata": {
            "tags": []
          },
          "execution_count": 28
        }
      ]
    },
    {
      "metadata": {
        "id": "rC9YZFDIomAw",
        "colab_type": "code",
        "colab": {}
      },
      "cell_type": "code",
      "source": [
        "!pip install -U -q PyDrive"
      ],
      "execution_count": 0,
      "outputs": []
    },
    {
      "metadata": {
        "id": "8eK54Qk2pFS3",
        "colab_type": "code",
        "colab": {
          "base_uri": "https://localhost:8080/",
          "height": 250
        },
        "outputId": "b4de6cd8-5d43-4b74-f6c4-7fbcfd6dcc15"
      },
      "cell_type": "code",
      "source": [
        "import os\n",
        "from pydrive.auth import GoogleAuth\n",
        "from pydrive.drive import GoogleDrive\n",
        "from google.colab import auth\n",
        "from oauth2client.client import GoogleCredentials\n",
        "from tensorflow.examples.tutorials.mnist import input_data\n",
        "import numpy\n",
        "from sklearn import metrics\n",
        "from keras.models import Sequential \n",
        "from keras.utils import np_utils\n",
        "from keras.datasets import mnist\n",
        "from keras.layers import Dense,Conv2D,MaxPool2D,Dropout,Flatten,Convolution2D\n",
        "\n",
        "# 1. Authenticate and create the PyDrive client.\n",
        "auth.authenticate_user()\n",
        "gauth = GoogleAuth()\n",
        "gauth.credentials = GoogleCredentials.get_application_default()\n",
        "drive = GoogleDrive(gauth)\n",
        "\n",
        "# choose a local (colab) directory to store the data.\n",
        "local_download_path = os.path.expanduser('~/data')\n",
        "try:\n",
        "  os.makedirs(local_download_path)\n",
        "except: pass\n",
        "\n",
        "# 2. Auto-iterate using the query syntax\n",
        "#    https://developers.google.com/drive/v2/web/search-parameters\n",
        "file_list = drive.ListFile(\n",
        "    {'q': \"'1L5wT1_-rCtSsPBC_T-5ktiCvpWoHQ8If' in parents\"}).GetList()\n",
        "\n",
        "for f in file_list:\n",
        "  print(f)\n",
        "  # 3. Create & download by id.\n",
        "  print('title: %s, id: %s' % (f['title'], f['id']))\n",
        "  fname = os.path.join(local_download_path, f['title'])\n",
        "  print('downloading to {}'.format(fname))\n",
        "  f_ = drive.CreateFile({'id': f['id']})\n",
        "  f_.GetContentFile(fname)"
      ],
      "execution_count": 4,
      "outputs": [
        {
          "output_type": "stream",
          "text": [
            "GoogleDriveFile({'kind': 'drive#file', 'id': '1z1fn5L_cN4_1RY2IcuFZVbzzGYdLs2Nb', 'etag': '\"Kk_83xxobVILlgYUB8xd9E4tSOE/MTUzNDgyMzk0MDM3Nw\"', 'selfLink': 'https://www.googleapis.com/drive/v2/files/1z1fn5L_cN4_1RY2IcuFZVbzzGYdLs2Nb', 'webContentLink': 'https://drive.google.com/uc?id=1z1fn5L_cN4_1RY2IcuFZVbzzGYdLs2Nb&export=download', 'alternateLink': 'https://drive.google.com/file/d/1z1fn5L_cN4_1RY2IcuFZVbzzGYdLs2Nb/view?usp=drivesdk', 'embedLink': 'https://drive.google.com/file/d/1z1fn5L_cN4_1RY2IcuFZVbzzGYdLs2Nb/preview?usp=drivesdk', 'iconLink': 'https://drive-thirdparty.googleusercontent.com/16/type/application/x-gzip', 'title': 'train-images-idx3-ubyte.gz', 'mimeType': 'application/x-gzip', 'labels': {'starred': False, 'hidden': False, 'trashed': False, 'restricted': False, 'viewed': True}, 'copyRequiresWriterPermission': False, 'createdDate': '2018-08-21T03:59:00.377Z', 'modifiedDate': '2018-08-21T03:59:00.377Z', 'modifiedByMeDate': '2018-08-21T03:59:00.377Z', 'lastViewedByMeDate': '2018-08-21T03:59:00.377Z', 'markedViewedByMeDate': '1970-01-01T00:00:00.000Z', 'version': '29', 'parents': [{'kind': 'drive#parentReference', 'id': '1L5wT1_-rCtSsPBC_T-5ktiCvpWoHQ8If', 'selfLink': 'https://www.googleapis.com/drive/v2/files/1z1fn5L_cN4_1RY2IcuFZVbzzGYdLs2Nb/parents/1L5wT1_-rCtSsPBC_T-5ktiCvpWoHQ8If', 'parentLink': 'https://www.googleapis.com/drive/v2/files/1L5wT1_-rCtSsPBC_T-5ktiCvpWoHQ8If', 'isRoot': False}], 'downloadUrl': 'https://doc-0o-2s-docs.googleusercontent.com/docs/securesc/00kkaanul9mbutpimpibm47dk3320g4a/16qpncubg68aql1lbriju6gj5g0ghgq8/1536026400000/01214786812531308743/01214786812531308743/1z1fn5L_cN4_1RY2IcuFZVbzzGYdLs2Nb?e=download&gd=true', 'userPermission': {'kind': 'drive#permission', 'etag': '\"Kk_83xxobVILlgYUB8xd9E4tSOE/NWkN4GPTskqfea9AV3Pi1a_DbnI\"', 'id': 'me', 'selfLink': 'https://www.googleapis.com/drive/v2/files/1z1fn5L_cN4_1RY2IcuFZVbzzGYdLs2Nb/permissions/me', 'role': 'owner', 'type': 'user'}, 'originalFilename': 'train-images-idx3-ubyte.gz', 'fileExtension': 'gz', 'md5Checksum': '8d4fb7e6c68d591d4c3dfef9ec88bf0d', 'fileSize': '26421880', 'quotaBytesUsed': '26421880', 'ownerNames': ['Param Popat'], 'owners': [{'kind': 'drive#user', 'displayName': 'Param Popat', 'picture': {'url': 'https://lh4.googleusercontent.com/-ggJArJAiDeU/AAAAAAAAAAI/AAAAAAAAA70/O7mtrtCv2p8/s64/photo.jpg'}, 'isAuthenticatedUser': True, 'permissionId': '01214786812531308743', 'emailAddress': 'param.popat@gmail.com'}], 'lastModifyingUserName': 'Param Popat', 'lastModifyingUser': {'kind': 'drive#user', 'displayName': 'Param Popat', 'picture': {'url': 'https://lh4.googleusercontent.com/-ggJArJAiDeU/AAAAAAAAAAI/AAAAAAAAA70/O7mtrtCv2p8/s64/photo.jpg'}, 'isAuthenticatedUser': True, 'permissionId': '01214786812531308743', 'emailAddress': 'param.popat@gmail.com'}, 'capabilities': {'canCopy': True, 'canEdit': True}, 'editable': True, 'copyable': True, 'writersCanShare': True, 'shared': True, 'explicitlyTrashed': False, 'appDataContents': False, 'headRevisionId': '0By7Z1InNrj2Tdk04OHc2aDRkQ0JlaktOOGgxQXdUU0VrVTdzPQ', 'spaces': ['drive']})\n",
            "title: train-images-idx3-ubyte.gz, id: 1z1fn5L_cN4_1RY2IcuFZVbzzGYdLs2Nb\n",
            "downloading to /root/data/train-images-idx3-ubyte.gz\n",
            "GoogleDriveFile({'kind': 'drive#file', 'id': '1Jl5O6G5-N51ewjKgYHsZfa1T5zn8SLe_', 'etag': '\"Kk_83xxobVILlgYUB8xd9E4tSOE/MTUzNDgyMzY0Nzg3MQ\"', 'selfLink': 'https://www.googleapis.com/drive/v2/files/1Jl5O6G5-N51ewjKgYHsZfa1T5zn8SLe_', 'webContentLink': 'https://drive.google.com/uc?id=1Jl5O6G5-N51ewjKgYHsZfa1T5zn8SLe_&export=download', 'alternateLink': 'https://drive.google.com/file/d/1Jl5O6G5-N51ewjKgYHsZfa1T5zn8SLe_/view?usp=drivesdk', 'embedLink': 'https://drive.google.com/file/d/1Jl5O6G5-N51ewjKgYHsZfa1T5zn8SLe_/preview?usp=drivesdk', 'iconLink': 'https://drive-thirdparty.googleusercontent.com/16/type/application/x-gzip', 'title': 't10k-labels-idx1-ubyte.gz', 'mimeType': 'application/x-gzip', 'labels': {'starred': False, 'hidden': False, 'trashed': False, 'restricted': False, 'viewed': True}, 'copyRequiresWriterPermission': False, 'createdDate': '2018-08-21T03:45:23.672Z', 'modifiedDate': '2018-08-21T03:54:07.871Z', 'modifiedByMeDate': '2018-08-21T03:54:07.871Z', 'lastViewedByMeDate': '2018-08-21T03:54:07.871Z', 'markedViewedByMeDate': '1970-01-01T00:00:00.000Z', 'version': '30', 'parents': [{'kind': 'drive#parentReference', 'id': '1L5wT1_-rCtSsPBC_T-5ktiCvpWoHQ8If', 'selfLink': 'https://www.googleapis.com/drive/v2/files/1Jl5O6G5-N51ewjKgYHsZfa1T5zn8SLe_/parents/1L5wT1_-rCtSsPBC_T-5ktiCvpWoHQ8If', 'parentLink': 'https://www.googleapis.com/drive/v2/files/1L5wT1_-rCtSsPBC_T-5ktiCvpWoHQ8If', 'isRoot': False}], 'downloadUrl': 'https://doc-08-2s-docs.googleusercontent.com/docs/securesc/00kkaanul9mbutpimpibm47dk3320g4a/e62nv5jukummbo5rlg729c9cl3cv26cc/1536026400000/01214786812531308743/01214786812531308743/1Jl5O6G5-N51ewjKgYHsZfa1T5zn8SLe_?e=download&gd=true', 'userPermission': {'kind': 'drive#permission', 'etag': '\"Kk_83xxobVILlgYUB8xd9E4tSOE/lk6tBNLqkpjsVbM2w6Y6ohV3PSM\"', 'id': 'me', 'selfLink': 'https://www.googleapis.com/drive/v2/files/1Jl5O6G5-N51ewjKgYHsZfa1T5zn8SLe_/permissions/me', 'role': 'owner', 'type': 'user'}, 'originalFilename': 't10k-labels-idx1-ubyte.gz', 'fileExtension': 'gz', 'md5Checksum': 'bb300cfdad3c16e7a12a480ee83cd310', 'fileSize': '5148', 'quotaBytesUsed': '10296', 'ownerNames': ['Param Popat'], 'owners': [{'kind': 'drive#user', 'displayName': 'Param Popat', 'picture': {'url': 'https://lh4.googleusercontent.com/-ggJArJAiDeU/AAAAAAAAAAI/AAAAAAAAA70/O7mtrtCv2p8/s64/photo.jpg'}, 'isAuthenticatedUser': True, 'permissionId': '01214786812531308743', 'emailAddress': 'param.popat@gmail.com'}], 'lastModifyingUserName': 'Param Popat', 'lastModifyingUser': {'kind': 'drive#user', 'displayName': 'Param Popat', 'picture': {'url': 'https://lh4.googleusercontent.com/-ggJArJAiDeU/AAAAAAAAAAI/AAAAAAAAA70/O7mtrtCv2p8/s64/photo.jpg'}, 'isAuthenticatedUser': True, 'permissionId': '01214786812531308743', 'emailAddress': 'param.popat@gmail.com'}, 'capabilities': {'canCopy': True, 'canEdit': True}, 'editable': True, 'copyable': True, 'writersCanShare': True, 'shared': True, 'explicitlyTrashed': False, 'appDataContents': False, 'headRevisionId': '0By7Z1InNrj2TMWplL28yUXEwU3BGc2N4cWlMSisxWEkzUWo4PQ', 'spaces': ['drive']})\n",
            "title: t10k-labels-idx1-ubyte.gz, id: 1Jl5O6G5-N51ewjKgYHsZfa1T5zn8SLe_\n",
            "downloading to /root/data/t10k-labels-idx1-ubyte.gz\n",
            "GoogleDriveFile({'kind': 'drive#file', 'id': '1yV1THX5MeNTqKnU1Hkt_pYzkbCy5yZfm', 'etag': '\"Kk_83xxobVILlgYUB8xd9E4tSOE/MTUzNDgyMzY0NTA5Mg\"', 'selfLink': 'https://www.googleapis.com/drive/v2/files/1yV1THX5MeNTqKnU1Hkt_pYzkbCy5yZfm', 'webContentLink': 'https://drive.google.com/uc?id=1yV1THX5MeNTqKnU1Hkt_pYzkbCy5yZfm&export=download', 'alternateLink': 'https://drive.google.com/file/d/1yV1THX5MeNTqKnU1Hkt_pYzkbCy5yZfm/view?usp=drivesdk', 'embedLink': 'https://drive.google.com/file/d/1yV1THX5MeNTqKnU1Hkt_pYzkbCy5yZfm/preview?usp=drivesdk', 'iconLink': 'https://drive-thirdparty.googleusercontent.com/16/type/application/x-gzip', 'title': 'train-labels-idx1-ubyte.gz', 'mimeType': 'application/x-gzip', 'labels': {'starred': False, 'hidden': False, 'trashed': False, 'restricted': False, 'viewed': True}, 'copyRequiresWriterPermission': False, 'createdDate': '2018-08-21T03:45:25.344Z', 'modifiedDate': '2018-08-21T03:54:05.092Z', 'modifiedByMeDate': '2018-08-21T03:54:05.092Z', 'lastViewedByMeDate': '2018-08-21T03:54:05.092Z', 'markedViewedByMeDate': '1970-01-01T00:00:00.000Z', 'version': '30', 'parents': [{'kind': 'drive#parentReference', 'id': '1L5wT1_-rCtSsPBC_T-5ktiCvpWoHQ8If', 'selfLink': 'https://www.googleapis.com/drive/v2/files/1yV1THX5MeNTqKnU1Hkt_pYzkbCy5yZfm/parents/1L5wT1_-rCtSsPBC_T-5ktiCvpWoHQ8If', 'parentLink': 'https://www.googleapis.com/drive/v2/files/1L5wT1_-rCtSsPBC_T-5ktiCvpWoHQ8If', 'isRoot': False}], 'downloadUrl': 'https://doc-0c-2s-docs.googleusercontent.com/docs/securesc/00kkaanul9mbutpimpibm47dk3320g4a/ep14idd5mlkn9c88t8dchj4mdm5j9l5g/1536026400000/01214786812531308743/01214786812531308743/1yV1THX5MeNTqKnU1Hkt_pYzkbCy5yZfm?e=download&gd=true', 'userPermission': {'kind': 'drive#permission', 'etag': '\"Kk_83xxobVILlgYUB8xd9E4tSOE/fQWWr7ZaubqCYZfReK70KmM-T28\"', 'id': 'me', 'selfLink': 'https://www.googleapis.com/drive/v2/files/1yV1THX5MeNTqKnU1Hkt_pYzkbCy5yZfm/permissions/me', 'role': 'owner', 'type': 'user'}, 'originalFilename': 'train-labels-idx1-ubyte.gz', 'fileExtension': 'gz', 'md5Checksum': '25c81989df183df01b3e8a0aad5dffbe', 'fileSize': '29515', 'quotaBytesUsed': '59030', 'ownerNames': ['Param Popat'], 'owners': [{'kind': 'drive#user', 'displayName': 'Param Popat', 'picture': {'url': 'https://lh4.googleusercontent.com/-ggJArJAiDeU/AAAAAAAAAAI/AAAAAAAAA70/O7mtrtCv2p8/s64/photo.jpg'}, 'isAuthenticatedUser': True, 'permissionId': '01214786812531308743', 'emailAddress': 'param.popat@gmail.com'}], 'lastModifyingUserName': 'Param Popat', 'lastModifyingUser': {'kind': 'drive#user', 'displayName': 'Param Popat', 'picture': {'url': 'https://lh4.googleusercontent.com/-ggJArJAiDeU/AAAAAAAAAAI/AAAAAAAAA70/O7mtrtCv2p8/s64/photo.jpg'}, 'isAuthenticatedUser': True, 'permissionId': '01214786812531308743', 'emailAddress': 'param.popat@gmail.com'}, 'capabilities': {'canCopy': True, 'canEdit': True}, 'editable': True, 'copyable': True, 'writersCanShare': True, 'shared': True, 'explicitlyTrashed': False, 'appDataContents': False, 'headRevisionId': '0By7Z1InNrj2TQ3ZwNmFhUDJ4MzRFaUR1dlQ5eXhFKytIdkJNPQ', 'spaces': ['drive']})\n",
            "title: train-labels-idx1-ubyte.gz, id: 1yV1THX5MeNTqKnU1Hkt_pYzkbCy5yZfm\n",
            "downloading to /root/data/train-labels-idx1-ubyte.gz\n",
            "GoogleDriveFile({'kind': 'drive#file', 'id': '19MrihCkxTS0VH3K-cQ4coZ9DifxfZVft', 'etag': '\"Kk_83xxobVILlgYUB8xd9E4tSOE/MTUzNDgyMzYyNjY5NQ\"', 'selfLink': 'https://www.googleapis.com/drive/v2/files/19MrihCkxTS0VH3K-cQ4coZ9DifxfZVft', 'webContentLink': 'https://drive.google.com/uc?id=19MrihCkxTS0VH3K-cQ4coZ9DifxfZVft&export=download', 'alternateLink': 'https://drive.google.com/file/d/19MrihCkxTS0VH3K-cQ4coZ9DifxfZVft/view?usp=drivesdk', 'embedLink': 'https://drive.google.com/file/d/19MrihCkxTS0VH3K-cQ4coZ9DifxfZVft/preview?usp=drivesdk', 'iconLink': 'https://drive-thirdparty.googleusercontent.com/16/type/application/x-gzip', 'title': 't10k-images-idx3-ubyte.gz', 'mimeType': 'application/x-gzip', 'labels': {'starred': False, 'hidden': False, 'trashed': False, 'restricted': False, 'viewed': True}, 'copyRequiresWriterPermission': False, 'createdDate': '2018-08-21T03:53:46.695Z', 'modifiedDate': '2018-08-21T03:53:46.695Z', 'modifiedByMeDate': '2018-08-21T03:53:46.695Z', 'lastViewedByMeDate': '2018-08-21T03:53:46.695Z', 'markedViewedByMeDate': '1970-01-01T00:00:00.000Z', 'version': '25', 'parents': [{'kind': 'drive#parentReference', 'id': '1L5wT1_-rCtSsPBC_T-5ktiCvpWoHQ8If', 'selfLink': 'https://www.googleapis.com/drive/v2/files/19MrihCkxTS0VH3K-cQ4coZ9DifxfZVft/parents/1L5wT1_-rCtSsPBC_T-5ktiCvpWoHQ8If', 'parentLink': 'https://www.googleapis.com/drive/v2/files/1L5wT1_-rCtSsPBC_T-5ktiCvpWoHQ8If', 'isRoot': False}], 'downloadUrl': 'https://doc-0c-2s-docs.googleusercontent.com/docs/securesc/00kkaanul9mbutpimpibm47dk3320g4a/osdmlrb5qpvv229c9rpudpr9cqvpi6r4/1536026400000/01214786812531308743/01214786812531308743/19MrihCkxTS0VH3K-cQ4coZ9DifxfZVft?e=download&gd=true', 'userPermission': {'kind': 'drive#permission', 'etag': '\"Kk_83xxobVILlgYUB8xd9E4tSOE/tKFhZxIt9XvyhrZuxxmczjG03DI\"', 'id': 'me', 'selfLink': 'https://www.googleapis.com/drive/v2/files/19MrihCkxTS0VH3K-cQ4coZ9DifxfZVft/permissions/me', 'role': 'owner', 'type': 'user'}, 'originalFilename': 't10k-images-idx3-ubyte.gz', 'fileExtension': 'gz', 'md5Checksum': 'bef4ecab320f06d8554ea6380940ec79', 'fileSize': '4422102', 'quotaBytesUsed': '4422102', 'ownerNames': ['Param Popat'], 'owners': [{'kind': 'drive#user', 'displayName': 'Param Popat', 'picture': {'url': 'https://lh4.googleusercontent.com/-ggJArJAiDeU/AAAAAAAAAAI/AAAAAAAAA70/O7mtrtCv2p8/s64/photo.jpg'}, 'isAuthenticatedUser': True, 'permissionId': '01214786812531308743', 'emailAddress': 'param.popat@gmail.com'}], 'lastModifyingUserName': 'Param Popat', 'lastModifyingUser': {'kind': 'drive#user', 'displayName': 'Param Popat', 'picture': {'url': 'https://lh4.googleusercontent.com/-ggJArJAiDeU/AAAAAAAAAAI/AAAAAAAAA70/O7mtrtCv2p8/s64/photo.jpg'}, 'isAuthenticatedUser': True, 'permissionId': '01214786812531308743', 'emailAddress': 'param.popat@gmail.com'}, 'capabilities': {'canCopy': True, 'canEdit': True}, 'editable': True, 'copyable': True, 'writersCanShare': True, 'shared': True, 'explicitlyTrashed': False, 'appDataContents': False, 'headRevisionId': '0By7Z1InNrj2Tbk45ZzljZWg5MHR4SnlheFFJOWt5bWt4UytzPQ', 'spaces': ['drive']})\n",
            "title: t10k-images-idx3-ubyte.gz, id: 19MrihCkxTS0VH3K-cQ4coZ9DifxfZVft\n",
            "downloading to /root/data/t10k-images-idx3-ubyte.gz\n"
          ],
          "name": "stdout"
        }
      ]
    },
    {
      "metadata": {
        "id": "KCEsaBbnrJ8d",
        "colab_type": "code",
        "colab": {
          "base_uri": "https://localhost:8080/",
          "height": 570
        },
        "outputId": "aac606fd-4451-4bf0-f588-78e1a318accc"
      },
      "cell_type": "code",
      "source": [
        "fashion_mnist = input_data.read_data_sets(\"/content/data/\", one_hot=True)\n",
        "print(fashion_mnist)"
      ],
      "execution_count": 5,
      "outputs": [
        {
          "output_type": "stream",
          "text": [
            "WARNING:tensorflow:From <ipython-input-5-14926802c094>:1: read_data_sets (from tensorflow.contrib.learn.python.learn.datasets.mnist) is deprecated and will be removed in a future version.\n",
            "Instructions for updating:\n",
            "Please use alternatives such as official/mnist/dataset.py from tensorflow/models.\n",
            "WARNING:tensorflow:From /usr/local/lib/python3.6/dist-packages/tensorflow/contrib/learn/python/learn/datasets/mnist.py:260: maybe_download (from tensorflow.contrib.learn.python.learn.datasets.base) is deprecated and will be removed in a future version.\n",
            "Instructions for updating:\n",
            "Please write your own downloading logic.\n",
            "WARNING:tensorflow:From /usr/local/lib/python3.6/dist-packages/tensorflow/contrib/learn/python/learn/datasets/base.py:252: _internal_retry.<locals>.wrap.<locals>.wrapped_fn (from tensorflow.contrib.learn.python.learn.datasets.base) is deprecated and will be removed in a future version.\n",
            "Instructions for updating:\n",
            "Please use urllib or similar directly.\n",
            "Successfully downloaded train-images-idx3-ubyte.gz 9912422 bytes.\n",
            "WARNING:tensorflow:From /usr/local/lib/python3.6/dist-packages/tensorflow/contrib/learn/python/learn/datasets/mnist.py:262: extract_images (from tensorflow.contrib.learn.python.learn.datasets.mnist) is deprecated and will be removed in a future version.\n",
            "Instructions for updating:\n",
            "Please use tf.data to implement this functionality.\n",
            "Extracting /content/data/train-images-idx3-ubyte.gz\n",
            "Successfully downloaded train-labels-idx1-ubyte.gz 28881 bytes.\n",
            "WARNING:tensorflow:From /usr/local/lib/python3.6/dist-packages/tensorflow/contrib/learn/python/learn/datasets/mnist.py:267: extract_labels (from tensorflow.contrib.learn.python.learn.datasets.mnist) is deprecated and will be removed in a future version.\n",
            "Instructions for updating:\n",
            "Please use tf.data to implement this functionality.\n",
            "Extracting /content/data/train-labels-idx1-ubyte.gz\n",
            "WARNING:tensorflow:From /usr/local/lib/python3.6/dist-packages/tensorflow/contrib/learn/python/learn/datasets/mnist.py:110: dense_to_one_hot (from tensorflow.contrib.learn.python.learn.datasets.mnist) is deprecated and will be removed in a future version.\n",
            "Instructions for updating:\n",
            "Please use tf.one_hot on tensors.\n",
            "Successfully downloaded t10k-images-idx3-ubyte.gz 1648877 bytes.\n",
            "Extracting /content/data/t10k-images-idx3-ubyte.gz\n",
            "Successfully downloaded t10k-labels-idx1-ubyte.gz 4542 bytes.\n",
            "Extracting /content/data/t10k-labels-idx1-ubyte.gz\n",
            "WARNING:tensorflow:From /usr/local/lib/python3.6/dist-packages/tensorflow/contrib/learn/python/learn/datasets/mnist.py:290: DataSet.__init__ (from tensorflow.contrib.learn.python.learn.datasets.mnist) is deprecated and will be removed in a future version.\n",
            "Instructions for updating:\n",
            "Please use alternatives such as official/mnist/dataset.py from tensorflow/models.\n",
            "Datasets(train=<tensorflow.contrib.learn.python.learn.datasets.mnist.DataSet object at 0x7f7b47e938d0>, validation=<tensorflow.contrib.learn.python.learn.datasets.mnist.DataSet object at 0x7f7b8e1c5278>, test=<tensorflow.contrib.learn.python.learn.datasets.mnist.DataSet object at 0x7f7b8e1c5e80>)\n"
          ],
          "name": "stdout"
        }
      ]
    },
    {
      "metadata": {
        "id": "ubLWVqOJrcsL",
        "colab_type": "code",
        "colab": {}
      },
      "cell_type": "code",
      "source": [
        "x_train = fashion_mnist.train.images\n",
        "x_test = fashion_mnist.test.images\n",
        "y_train = fashion_mnist.train.labels\n",
        "y_test = fashion_mnist.test.labels"
      ],
      "execution_count": 0,
      "outputs": []
    },
    {
      "metadata": {
        "id": "ziVoUaOkr8nd",
        "colab_type": "code",
        "colab": {
          "base_uri": "https://localhost:8080/",
          "height": 70
        },
        "outputId": "9186f265-a674-4617-cbaa-00f87720a2b4"
      },
      "cell_type": "code",
      "source": [
        "  import keras\n",
        "  x_train = x_train.reshape(x_train.shape[0], 28, 28, 1)\n",
        "  x_test = x_test.reshape(x_test.shape[0], 28, 28, 1)\n",
        "\n",
        "  x_train = x_train.astype('float32')\n",
        "  x_test = x_test.astype('float32')\n",
        "  x_train /= 255\n",
        "  x_test /= 255\n",
        "  print('x_train shape:', x_train.shape)\n",
        "  print(x_train.shape[0], 'train samples')\n",
        "  print(x_test.shape[0], 'test samples')\n",
        "\n",
        "  # convert class vectors to binary class matrices\n",
        "  y_train = keras.utils.to_categorical(y_train, 10)\n",
        "  y_test = keras.utils.to_categorical(y_test, 10)"
      ],
      "execution_count": 7,
      "outputs": [
        {
          "output_type": "stream",
          "text": [
            "x_train shape: (55000, 28, 28, 1)\n",
            "55000 train samples\n",
            "10000 test samples\n"
          ],
          "name": "stdout"
        }
      ]
    },
    {
      "metadata": {
        "id": "AJ1Yz_o7vrpG",
        "colab_type": "code",
        "colab": {
          "resources": {
            "http://localhost:8080/nbextensions/google.colab/files.js": {
              "data": "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",
              "ok": true,
              "headers": [
                [
                  "content-type",
                  "application/javascript"
                ]
              ],
              "status": 200,
              "status_text": ""
            }
          },
          "base_uri": "https://localhost:8080/",
          "height": 56
        },
        "outputId": "c5d09ed5-b5c5-4e74-9b2a-534bf9af43c0"
      },
      "cell_type": "code",
      "source": [
        "from google.colab import files\n",
        "uploaded = files.upload()"
      ],
      "execution_count": 0,
      "outputs": [
        {
          "output_type": "display_data",
          "data": {
            "text/html": [
              "\n",
              "     <input type=\"file\" id=\"files-26e4cf1d-ee79-4c5f-b74b-09fe9eb8f5cf\" name=\"files[]\" multiple disabled />\n",
              "     <output id=\"result-26e4cf1d-ee79-4c5f-b74b-09fe9eb8f5cf\">\n",
              "      Upload widget is only available when the cell has been executed in the\n",
              "      current browser session. Please rerun this cell to enable.\n",
              "      </output>\n",
              "      <script src=\"/nbextensions/google.colab/files.js\"></script> "
            ],
            "text/plain": [
              "<IPython.core.display.HTML object>"
            ]
          },
          "metadata": {
            "tags": []
          }
        },
        {
          "output_type": "stream",
          "text": [
            "Saving fashion_1.h5 to fashion_1 (1).h5\n"
          ],
          "name": "stdout"
        }
      ]
    },
    {
      "metadata": {
        "id": "LwyRdDrQynOi",
        "colab_type": "code",
        "colab": {
          "base_uri": "https://localhost:8080/",
          "height": 684
        },
        "outputId": "4e29678c-7553-45ea-b396-f7d8b826f4b5"
      },
      "cell_type": "code",
      "source": [
        "from keras.models import load_model\n",
        "model = load_model('fashion_1 (1).h5')"
      ],
      "execution_count": 1,
      "outputs": [
        {
          "output_type": "stream",
          "text": [
            "Using TensorFlow backend.\n"
          ],
          "name": "stderr"
        },
        {
          "output_type": "error",
          "ename": "OSError",
          "evalue": "ignored",
          "traceback": [
            "\u001b[0;31m---------------------------------------------------------------------------\u001b[0m",
            "\u001b[0;31mOSError\u001b[0m                                   Traceback (most recent call last)",
            "\u001b[0;32m<ipython-input-1-f5cd03b5115f>\u001b[0m in \u001b[0;36m<module>\u001b[0;34m()\u001b[0m\n\u001b[1;32m      1\u001b[0m \u001b[0;32mfrom\u001b[0m \u001b[0mkeras\u001b[0m\u001b[0;34m.\u001b[0m\u001b[0mmodels\u001b[0m \u001b[0;32mimport\u001b[0m \u001b[0mload_model\u001b[0m\u001b[0;34m\u001b[0m\u001b[0m\n\u001b[0;32m----> 2\u001b[0;31m \u001b[0mmodel\u001b[0m \u001b[0;34m=\u001b[0m \u001b[0mload_model\u001b[0m\u001b[0;34m(\u001b[0m\u001b[0;34m'fashion_1 (1).h5'\u001b[0m\u001b[0;34m)\u001b[0m\u001b[0;34m\u001b[0m\u001b[0m\n\u001b[0m",
            "\u001b[0;32m/usr/local/lib/python3.6/dist-packages/keras/models.py\u001b[0m in \u001b[0;36mload_model\u001b[0;34m(filepath, custom_objects, compile)\u001b[0m\n\u001b[1;32m    258\u001b[0m     \u001b[0mopened_new_file\u001b[0m \u001b[0;34m=\u001b[0m \u001b[0;32mnot\u001b[0m \u001b[0misinstance\u001b[0m\u001b[0;34m(\u001b[0m\u001b[0mfilepath\u001b[0m\u001b[0;34m,\u001b[0m \u001b[0mh5py\u001b[0m\u001b[0;34m.\u001b[0m\u001b[0mFile\u001b[0m\u001b[0;34m)\u001b[0m\u001b[0;34m\u001b[0m\u001b[0m\n\u001b[1;32m    259\u001b[0m     \u001b[0;32mif\u001b[0m \u001b[0mopened_new_file\u001b[0m\u001b[0;34m:\u001b[0m\u001b[0;34m\u001b[0m\u001b[0m\n\u001b[0;32m--> 260\u001b[0;31m         \u001b[0mf\u001b[0m \u001b[0;34m=\u001b[0m \u001b[0mh5py\u001b[0m\u001b[0;34m.\u001b[0m\u001b[0mFile\u001b[0m\u001b[0;34m(\u001b[0m\u001b[0mfilepath\u001b[0m\u001b[0;34m,\u001b[0m \u001b[0mmode\u001b[0m\u001b[0;34m=\u001b[0m\u001b[0;34m'r'\u001b[0m\u001b[0;34m)\u001b[0m\u001b[0;34m\u001b[0m\u001b[0m\n\u001b[0m\u001b[1;32m    261\u001b[0m     \u001b[0;32melse\u001b[0m\u001b[0;34m:\u001b[0m\u001b[0;34m\u001b[0m\u001b[0m\n\u001b[1;32m    262\u001b[0m         \u001b[0mf\u001b[0m \u001b[0;34m=\u001b[0m \u001b[0mfilepath\u001b[0m\u001b[0;34m\u001b[0m\u001b[0m\n",
            "\u001b[0;32m/usr/local/lib/python3.6/dist-packages/h5py/_hl/files.py\u001b[0m in \u001b[0;36m__init__\u001b[0;34m(self, name, mode, driver, libver, userblock_size, swmr, **kwds)\u001b[0m\n\u001b[1;32m    310\u001b[0m             \u001b[0;32mwith\u001b[0m \u001b[0mphil\u001b[0m\u001b[0;34m:\u001b[0m\u001b[0;34m\u001b[0m\u001b[0m\n\u001b[1;32m    311\u001b[0m                 \u001b[0mfapl\u001b[0m \u001b[0;34m=\u001b[0m \u001b[0mmake_fapl\u001b[0m\u001b[0;34m(\u001b[0m\u001b[0mdriver\u001b[0m\u001b[0;34m,\u001b[0m \u001b[0mlibver\u001b[0m\u001b[0;34m,\u001b[0m \u001b[0;34m**\u001b[0m\u001b[0mkwds\u001b[0m\u001b[0;34m)\u001b[0m\u001b[0;34m\u001b[0m\u001b[0m\n\u001b[0;32m--> 312\u001b[0;31m                 \u001b[0mfid\u001b[0m \u001b[0;34m=\u001b[0m \u001b[0mmake_fid\u001b[0m\u001b[0;34m(\u001b[0m\u001b[0mname\u001b[0m\u001b[0;34m,\u001b[0m \u001b[0mmode\u001b[0m\u001b[0;34m,\u001b[0m \u001b[0muserblock_size\u001b[0m\u001b[0;34m,\u001b[0m \u001b[0mfapl\u001b[0m\u001b[0;34m,\u001b[0m \u001b[0mswmr\u001b[0m\u001b[0;34m=\u001b[0m\u001b[0mswmr\u001b[0m\u001b[0;34m)\u001b[0m\u001b[0;34m\u001b[0m\u001b[0m\n\u001b[0m\u001b[1;32m    313\u001b[0m \u001b[0;34m\u001b[0m\u001b[0m\n\u001b[1;32m    314\u001b[0m                 \u001b[0;32mif\u001b[0m \u001b[0mswmr_support\u001b[0m\u001b[0;34m:\u001b[0m\u001b[0;34m\u001b[0m\u001b[0m\n",
            "\u001b[0;32m/usr/local/lib/python3.6/dist-packages/h5py/_hl/files.py\u001b[0m in \u001b[0;36mmake_fid\u001b[0;34m(name, mode, userblock_size, fapl, fcpl, swmr)\u001b[0m\n\u001b[1;32m    140\u001b[0m         \u001b[0;32mif\u001b[0m \u001b[0mswmr\u001b[0m \u001b[0;32mand\u001b[0m \u001b[0mswmr_support\u001b[0m\u001b[0;34m:\u001b[0m\u001b[0;34m\u001b[0m\u001b[0m\n\u001b[1;32m    141\u001b[0m             \u001b[0mflags\u001b[0m \u001b[0;34m|=\u001b[0m \u001b[0mh5f\u001b[0m\u001b[0;34m.\u001b[0m\u001b[0mACC_SWMR_READ\u001b[0m\u001b[0;34m\u001b[0m\u001b[0m\n\u001b[0;32m--> 142\u001b[0;31m         \u001b[0mfid\u001b[0m \u001b[0;34m=\u001b[0m \u001b[0mh5f\u001b[0m\u001b[0;34m.\u001b[0m\u001b[0mopen\u001b[0m\u001b[0;34m(\u001b[0m\u001b[0mname\u001b[0m\u001b[0;34m,\u001b[0m \u001b[0mflags\u001b[0m\u001b[0;34m,\u001b[0m \u001b[0mfapl\u001b[0m\u001b[0;34m=\u001b[0m\u001b[0mfapl\u001b[0m\u001b[0;34m)\u001b[0m\u001b[0;34m\u001b[0m\u001b[0m\n\u001b[0m\u001b[1;32m    143\u001b[0m     \u001b[0;32melif\u001b[0m \u001b[0mmode\u001b[0m \u001b[0;34m==\u001b[0m \u001b[0;34m'r+'\u001b[0m\u001b[0;34m:\u001b[0m\u001b[0;34m\u001b[0m\u001b[0m\n\u001b[1;32m    144\u001b[0m         \u001b[0mfid\u001b[0m \u001b[0;34m=\u001b[0m \u001b[0mh5f\u001b[0m\u001b[0;34m.\u001b[0m\u001b[0mopen\u001b[0m\u001b[0;34m(\u001b[0m\u001b[0mname\u001b[0m\u001b[0;34m,\u001b[0m \u001b[0mh5f\u001b[0m\u001b[0;34m.\u001b[0m\u001b[0mACC_RDWR\u001b[0m\u001b[0;34m,\u001b[0m \u001b[0mfapl\u001b[0m\u001b[0;34m=\u001b[0m\u001b[0mfapl\u001b[0m\u001b[0;34m)\u001b[0m\u001b[0;34m\u001b[0m\u001b[0m\n",
            "\u001b[0;32mh5py/_objects.pyx\u001b[0m in \u001b[0;36mh5py._objects.with_phil.wrapper\u001b[0;34m()\u001b[0m\n",
            "\u001b[0;32mh5py/_objects.pyx\u001b[0m in \u001b[0;36mh5py._objects.with_phil.wrapper\u001b[0;34m()\u001b[0m\n",
            "\u001b[0;32mh5py/h5f.pyx\u001b[0m in \u001b[0;36mh5py.h5f.open\u001b[0;34m()\u001b[0m\n",
            "\u001b[0;31mOSError\u001b[0m: Unable to open file (unable to open file: name = 'fashion_1 (1).h5', errno = 2, error message = 'No such file or directory', flags = 0, o_flags = 0)"
          ]
        }
      ]
    },
    {
      "metadata": {
        "id": "lsXiWcI90bxM",
        "colab_type": "code",
        "colab": {
          "base_uri": "https://localhost:8080/",
          "height": 721
        },
        "outputId": "6fc4af20-b3ed-4dc6-b62b-453e3a8fe9b7"
      },
      "cell_type": "code",
      "source": [
        ""
      ],
      "execution_count": 29,
      "outputs": [
        {
          "output_type": "error",
          "ename": "ValueError",
          "evalue": "ignored",
          "traceback": [
            "\u001b[0;31m---------------------------------------------------------------------------\u001b[0m",
            "\u001b[0;31mValueError\u001b[0m                                Traceback (most recent call last)",
            "\u001b[0;32m<ipython-input-29-d23c5cf5196c>\u001b[0m in \u001b[0;36m<module>\u001b[0;34m()\u001b[0m\n\u001b[1;32m      2\u001b[0m           \u001b[0mbatch_size\u001b[0m\u001b[0;34m=\u001b[0m\u001b[0;36m128\u001b[0m\u001b[0;34m,\u001b[0m\u001b[0;34m\u001b[0m\u001b[0m\n\u001b[1;32m      3\u001b[0m           \u001b[0mepochs\u001b[0m\u001b[0;34m=\u001b[0m\u001b[0;36m12\u001b[0m\u001b[0;34m,\u001b[0m\u001b[0;34m\u001b[0m\u001b[0m\n\u001b[0;32m----> 4\u001b[0;31m           verbose=2)\n\u001b[0m",
            "\u001b[0;32m/usr/local/lib/python3.6/dist-packages/keras/models.py\u001b[0m in \u001b[0;36mfit\u001b[0;34m(self, x, y, batch_size, epochs, verbose, callbacks, validation_split, validation_data, shuffle, class_weight, sample_weight, initial_epoch, steps_per_epoch, validation_steps, **kwargs)\u001b[0m\n\u001b[1;32m   1000\u001b[0m                               \u001b[0minitial_epoch\u001b[0m\u001b[0;34m=\u001b[0m\u001b[0minitial_epoch\u001b[0m\u001b[0;34m,\u001b[0m\u001b[0;34m\u001b[0m\u001b[0m\n\u001b[1;32m   1001\u001b[0m                               \u001b[0msteps_per_epoch\u001b[0m\u001b[0;34m=\u001b[0m\u001b[0msteps_per_epoch\u001b[0m\u001b[0;34m,\u001b[0m\u001b[0;34m\u001b[0m\u001b[0m\n\u001b[0;32m-> 1002\u001b[0;31m                               validation_steps=validation_steps)\n\u001b[0m\u001b[1;32m   1003\u001b[0m \u001b[0;34m\u001b[0m\u001b[0m\n\u001b[1;32m   1004\u001b[0m     def evaluate(self, x=None, y=None,\n",
            "\u001b[0;32m/usr/local/lib/python3.6/dist-packages/keras/engine/training.py\u001b[0m in \u001b[0;36mfit\u001b[0;34m(self, x, y, batch_size, epochs, verbose, callbacks, validation_split, validation_data, shuffle, class_weight, sample_weight, initial_epoch, steps_per_epoch, validation_steps, **kwargs)\u001b[0m\n\u001b[1;32m   1628\u001b[0m             \u001b[0msample_weight\u001b[0m\u001b[0;34m=\u001b[0m\u001b[0msample_weight\u001b[0m\u001b[0;34m,\u001b[0m\u001b[0;34m\u001b[0m\u001b[0m\n\u001b[1;32m   1629\u001b[0m             \u001b[0mclass_weight\u001b[0m\u001b[0;34m=\u001b[0m\u001b[0mclass_weight\u001b[0m\u001b[0;34m,\u001b[0m\u001b[0;34m\u001b[0m\u001b[0m\n\u001b[0;32m-> 1630\u001b[0;31m             batch_size=batch_size)\n\u001b[0m\u001b[1;32m   1631\u001b[0m         \u001b[0;31m# Prepare validation data.\u001b[0m\u001b[0;34m\u001b[0m\u001b[0;34m\u001b[0m\u001b[0m\n\u001b[1;32m   1632\u001b[0m         \u001b[0mdo_validation\u001b[0m \u001b[0;34m=\u001b[0m \u001b[0;32mFalse\u001b[0m\u001b[0;34m\u001b[0m\u001b[0m\n",
            "\u001b[0;32m/usr/local/lib/python3.6/dist-packages/keras/engine/training.py\u001b[0m in \u001b[0;36m_standardize_user_data\u001b[0;34m(self, x, y, sample_weight, class_weight, check_array_lengths, batch_size)\u001b[0m\n\u001b[1;32m   1478\u001b[0m                                     \u001b[0moutput_shapes\u001b[0m\u001b[0;34m,\u001b[0m\u001b[0;34m\u001b[0m\u001b[0m\n\u001b[1;32m   1479\u001b[0m                                     \u001b[0mcheck_batch_axis\u001b[0m\u001b[0;34m=\u001b[0m\u001b[0;32mFalse\u001b[0m\u001b[0;34m,\u001b[0m\u001b[0;34m\u001b[0m\u001b[0m\n\u001b[0;32m-> 1480\u001b[0;31m                                     exception_prefix='target')\n\u001b[0m\u001b[1;32m   1481\u001b[0m         sample_weights = _standardize_sample_weights(sample_weight,\n\u001b[1;32m   1482\u001b[0m                                                      self._feed_output_names)\n",
            "\u001b[0;32m/usr/local/lib/python3.6/dist-packages/keras/engine/training.py\u001b[0m in \u001b[0;36m_standardize_input_data\u001b[0;34m(data, names, shapes, check_batch_axis, exception_prefix)\u001b[0m\n\u001b[1;32m    111\u001b[0m                         \u001b[0;34m': expected '\u001b[0m \u001b[0;34m+\u001b[0m \u001b[0mnames\u001b[0m\u001b[0;34m[\u001b[0m\u001b[0mi\u001b[0m\u001b[0;34m]\u001b[0m \u001b[0;34m+\u001b[0m \u001b[0;34m' to have '\u001b[0m \u001b[0;34m+\u001b[0m\u001b[0;34m\u001b[0m\u001b[0m\n\u001b[1;32m    112\u001b[0m                         \u001b[0mstr\u001b[0m\u001b[0;34m(\u001b[0m\u001b[0mlen\u001b[0m\u001b[0;34m(\u001b[0m\u001b[0mshape\u001b[0m\u001b[0;34m)\u001b[0m\u001b[0;34m)\u001b[0m \u001b[0;34m+\u001b[0m \u001b[0;34m' dimensions, but got array '\u001b[0m\u001b[0;34m\u001b[0m\u001b[0m\n\u001b[0;32m--> 113\u001b[0;31m                         'with shape ' + str(data_shape))\n\u001b[0m\u001b[1;32m    114\u001b[0m                 \u001b[0;32mif\u001b[0m \u001b[0;32mnot\u001b[0m \u001b[0mcheck_batch_axis\u001b[0m\u001b[0;34m:\u001b[0m\u001b[0;34m\u001b[0m\u001b[0m\n\u001b[1;32m    115\u001b[0m                     \u001b[0mdata_shape\u001b[0m \u001b[0;34m=\u001b[0m \u001b[0mdata_shape\u001b[0m\u001b[0;34m[\u001b[0m\u001b[0;36m1\u001b[0m\u001b[0;34m:\u001b[0m\u001b[0;34m]\u001b[0m\u001b[0;34m\u001b[0m\u001b[0m\n",
            "\u001b[0;31mValueError\u001b[0m: Error when checking target: expected dense_9 to have 2 dimensions, but got array with shape (55000, 10, 10)"
          ]
        }
      ]
    },
    {
      "metadata": {
        "id": "4-mtNZ74u7r2",
        "colab_type": "code",
        "colab": {}
      },
      "cell_type": "code",
      "source": [
        "  from keras.models import load_model\n",
        "  model = load_model('fashion_1 (1).h5')\n",
        "\n",
        "  model.compile(optimizer='adam',\n",
        "                loss='categorical_crossentropy',\n",
        "                metrics=['accuracy'])\n",
        "\n",
        "  print(model.summary())\n",
        "  test_loss, test_acc = model.evaluate(x_test, y_test, verbose=1, batch_size=128)"
      ],
      "execution_count": 0,
      "outputs": []
    }
  ]
}