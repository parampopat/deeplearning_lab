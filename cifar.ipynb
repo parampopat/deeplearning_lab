{
  "nbformat": 4,
  "nbformat_minor": 0,
  "metadata": {
    "colab": {
      "name": "cifar.ipynb",
      "version": "0.3.2",
      "provenance": [],
      "include_colab_link": true
    },
    "kernelspec": {
      "name": "python3",
      "display_name": "Python 3"
    },
    "accelerator": "GPU"
  },
  "cells": [
    {
      "cell_type": "markdown",
      "metadata": {
        "id": "view-in-github",
        "colab_type": "text"
      },
      "source": [
        "[View in Colaboratory](https://colab.research.google.com/github/parampopat/deeplearning_lab/blob/master/cifar.ipynb)"
      ]
    },
    {
      "metadata": {
        "id": "hGk79mKPvAFV",
        "colab_type": "code",
        "colab": {
          "base_uri": "https://localhost:8080/",
          "height": 444
        },
        "outputId": "9bec0e00-5c0d-4ea5-c989-0a4b8349eea3"
      },
      "cell_type": "code",
      "source": [
        "\"\"\"\n",
        "__author__ = \"Param Popat\"\n",
        "__version__ = \"1\"\n",
        "__git__ = \"https://github.com/parampopat/\"\n",
        "\"\"\"\n",
        "\n",
        "\n",
        "from keras.models import Sequential\n",
        "from keras.layers import Dense\n",
        "from keras.layers import Dropout\n",
        "from keras.datasets import cifar10\n",
        "from keras.optimizers import RMSprop\n",
        "from keras.utils import *\n",
        "\n",
        "\n",
        "def get_model(xtrain, ytrain, xtest, ytest):\n",
        "    \"\"\"\n",
        "    Trains and returns the model\n",
        "    :return: Trained Model\n",
        "    \"\"\"\n",
        "    model = Sequential()\n",
        "    model.add(Dense(512, input_shape=(xtrain.shape[1],), activation='relu'))\n",
        "    model.add(Dropout(0.2))\n",
        "    model.add(Dense(512, activation='relu'))\n",
        "    model.add(Dropout(0.2))\n",
        "    model.add(Dense(512, activation='relu'))\n",
        "    model.add(Dropout(0.2))\n",
        "    model.add(Dense(10, activation='softmax'))\n",
        "    model.compile(loss='categorical_crossentropy', optimizer='RMSprop', metrics=['accuracy'])\n",
        "    model.fit(xtrain, ytrain, validation_data=(xtest, ytest), epochs=10, batch_size=128, verbose=2)\n",
        "    return model\n",
        "\n",
        "\n",
        "def train():\n",
        "    \"\"\"\n",
        "    :return:\n",
        "    \"\"\"\n",
        "\n",
        "    (x_train, y_train), (x_test, y_test) = cifar10.load_data()\n",
        "    print(x_train.shape)\n",
        "    print(x_test.shape)\n",
        "    x_train = x_train.reshape(50000, 3072)\n",
        "    x_test = x_test.reshape(10000, 3072)\n",
        "    x_train = x_train.astype('float32')\n",
        "    x_test = x_test.astype('float32')\n",
        "    x_train /= 255\n",
        "    x_test /= 255\n",
        "    classes = 10\n",
        "    y_train = to_categorical(y_train, classes)\n",
        "    y_test = to_categorical(y_test, classes)\n",
        "    model = get_model(x_train, y_train, x_test, y_test)\n",
        "    y_test_pred = model.predict(x_test)\n",
        "    acc = model.evaluate(x_test, y_test, verbose=0)\n",
        "    print('Test Acc:', acc[1])\n",
        "\n",
        "    \n",
        "train()"
      ],
      "execution_count": 4,
      "outputs": [
        {
          "output_type": "stream",
          "text": [
            "(50000, 32, 32, 3)\n",
            "(10000, 32, 32, 3)\n",
            "Train on 50000 samples, validate on 10000 samples\n",
            "Epoch 1/10\n",
            " - 4s - loss: 1.8569 - acc: 0.3258 - val_loss: 1.6928 - val_acc: 0.3966\n",
            "Epoch 2/10\n",
            " - 4s - loss: 1.6528 - acc: 0.4082 - val_loss: 1.6015 - val_acc: 0.4283\n",
            "Epoch 3/10\n",
            " - 4s - loss: 1.5595 - acc: 0.4414 - val_loss: 1.5326 - val_acc: 0.4506\n",
            "Epoch 4/10\n",
            " - 4s - loss: 1.5016 - acc: 0.4616 - val_loss: 1.5078 - val_acc: 0.4558\n",
            "Epoch 5/10\n",
            " - 4s - loss: 1.4560 - acc: 0.4790 - val_loss: 1.4668 - val_acc: 0.4732\n",
            "Epoch 6/10\n",
            " - 4s - loss: 1.4079 - acc: 0.4937 - val_loss: 1.4409 - val_acc: 0.4871\n",
            "Epoch 7/10\n",
            " - 4s - loss: 1.3730 - acc: 0.5100 - val_loss: 1.4393 - val_acc: 0.4866\n",
            "Epoch 8/10\n",
            " - 4s - loss: 1.3361 - acc: 0.5234 - val_loss: 1.4044 - val_acc: 0.4957\n",
            "Epoch 9/10\n",
            " - 4s - loss: 1.3042 - acc: 0.5327 - val_loss: 1.3811 - val_acc: 0.5098\n",
            "Epoch 10/10\n",
            " - 4s - loss: 1.2666 - acc: 0.5448 - val_loss: 1.3933 - val_acc: 0.5041\n",
            "Test Acc: 0.5041\n"
          ],
          "name": "stdout"
        }
      ]
    }
  ]
}